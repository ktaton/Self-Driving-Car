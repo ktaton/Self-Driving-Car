{
 "cells": [
  {
   "cell_type": "code",
   "execution_count": 5,
   "id": "9b2e7d18",
   "metadata": {},
   "outputs": [],
   "source": [
    "#Program a function that returns a new distribution \n",
    "#q, shifted to the right by U units. If U=0, q should \n",
    "#be the same as p.\n",
    "\n",
    "p=[0, 1, 0, 0, 0]\n",
    "world=['green', 'red', 'red', 'green', 'green']\n",
    "measurements = ['red', 'green']\n",
    "pHit = 0.6\n",
    "pMiss = 0.2"
   ]
  },
  {
   "cell_type": "code",
   "execution_count": 13,
   "id": "d541cf90",
   "metadata": {},
   "outputs": [
    {
     "name": "stdout",
     "output_type": "stream",
     "text": [
      "[0.0, 1.0, 0.0, 0.0, 0.0]\n",
      "[0.0, 0.0, 0.0, 0.0, 0.0]\n"
     ]
    }
   ],
   "source": [
    "def sense(p, Z):\n",
    "    q=[]\n",
    "    for i in range(len(p)):\n",
    "        hit = (Z == world[i])\n",
    "        q.append(p[i] * (hit * pHit + (1-hit) * pMiss))\n",
    "    s = sum(q)\n",
    "    for i in range(len(q)):\n",
    "        q[i] = q[i] / s\n",
    "    return q\n",
    "\n",
    "def move(p, U):\n",
    "    #\n",
    "    #ADD CODE HERE\n",
    "    #\n",
    "    q = []\n",
    "    q = sense(p, measurements[1])\n",
    "    for i in range(len(q)):\n",
    "        x = i+U\n",
    "        y = len(q)-1\n",
    "        if x < y:\n",
    "            q[i+U] = q[i]\n",
    "        else:\n",
    "            c = x-y\n",
    "            q[c-1] = q[i] \n",
    "    return q\n",
    "\n",
    "print(move(p, 1))"
   ]
  },
  {
   "cell_type": "code",
   "execution_count": null,
   "id": "cfe637d4",
   "metadata": {},
   "outputs": [],
   "source": []
  }
 ],
 "metadata": {
  "kernelspec": {
   "display_name": "Tensorflow",
   "language": "python",
   "name": "tensorflow"
  },
  "language_info": {
   "codemirror_mode": {
    "name": "ipython",
    "version": 3
   },
   "file_extension": ".py",
   "mimetype": "text/x-python",
   "name": "python",
   "nbconvert_exporter": "python",
   "pygments_lexer": "ipython3",
   "version": "3.7.10"
  }
 },
 "nbformat": 4,
 "nbformat_minor": 5
}
