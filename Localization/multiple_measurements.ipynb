{
 "cells": [
  {
   "cell_type": "code",
   "execution_count": 3,
   "id": "030295da",
   "metadata": {},
   "outputs": [],
   "source": [
    "p = [0.2, 0.2, 0.2, 0.2, 0.2]\n",
    "world = ['green', 'red', 'red', 'green', 'green']\n",
    "measurements = ['green', 'red']\n",
    "pHit = 0.6\n",
    "pMiss = 0.2"
   ]
  },
  {
   "cell_type": "code",
   "execution_count": 6,
   "id": "4f7a4d9a",
   "metadata": {},
   "outputs": [
    {
     "name": "stdout",
     "output_type": "stream",
     "text": [
      "[0.2727272727272727, 0.09090909090909094, 0.09090909090909094, 0.2727272727272727, 0.2727272727272727]\n",
      "[0.19999999999999996, 0.20000000000000004, 0.20000000000000004, 0.19999999999999996, 0.19999999999999996]\n"
     ]
    }
   ],
   "source": [
    "def sense(p,Z):\n",
    "    q = []\n",
    "    for i in range(len(p)):\n",
    "        hit = (Z == world[i])\n",
    "        q.append(p[i]*(hit*pHit+(1-hit)*pMiss))\n",
    "    S = sum(q)\n",
    "    for i in range(len(p)):\n",
    "        q[i] = q[i]/S\n",
    "    return q\n",
    "for k in range(len(measurements)):\n",
    "    p = sense(p,measurements[k])\n",
    "    print(p)"
   ]
  },
  {
   "cell_type": "code",
   "execution_count": null,
   "id": "4a21bbf4",
   "metadata": {},
   "outputs": [],
   "source": []
  }
 ],
 "metadata": {
  "kernelspec": {
   "display_name": "Tensorflow",
   "language": "python",
   "name": "tensorflow"
  },
  "language_info": {
   "codemirror_mode": {
    "name": "ipython",
    "version": 3
   },
   "file_extension": ".py",
   "mimetype": "text/x-python",
   "name": "python",
   "nbconvert_exporter": "python",
   "pygments_lexer": "ipython3",
   "version": "3.7.10"
  }
 },
 "nbformat": 4,
 "nbformat_minor": 5
}
