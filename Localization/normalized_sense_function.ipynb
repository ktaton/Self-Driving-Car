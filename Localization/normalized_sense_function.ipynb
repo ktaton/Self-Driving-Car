{
 "cells": [
  {
   "cell_type": "code",
   "execution_count": 3,
   "id": "a63e9615",
   "metadata": {},
   "outputs": [],
   "source": [
    "p = [0.2, 0.2, 0.2, 0.2, 0.2]\n",
    "world = ['green', 'red', 'red', 'green', 'green']\n",
    "Z = 'green'\n",
    "pHit = 0.6\n",
    "pMiss = 0.2"
   ]
  },
  {
   "cell_type": "code",
   "execution_count": 4,
   "id": "49e1ed1b",
   "metadata": {},
   "outputs": [
    {
     "name": "stdout",
     "output_type": "stream",
     "text": [
      "[0.2727272727272727, 0.09090909090909093, 0.09090909090909093, 0.2727272727272727, 0.2727272727272727]\n"
     ]
    }
   ],
   "source": [
    "def sense(p,Z):\n",
    "    q = []\n",
    "    for i in range(len(p)):\n",
    "        hit = (Z == world[i])\n",
    "        q.append(p[i]*(hit*pHit+(1-hit)*pMiss))\n",
    "    S = sum(q)\n",
    "    for i in range(len(p)):\n",
    "        q[i] = q[i]/S\n",
    "    return q\n",
    "\n",
    "print(sense(p,Z))"
   ]
  },
  {
   "cell_type": "code",
   "execution_count": null,
   "id": "37639282",
   "metadata": {},
   "outputs": [],
   "source": []
  }
 ],
 "metadata": {
  "kernelspec": {
   "display_name": "Tensorflow",
   "language": "python",
   "name": "tensorflow"
  },
  "language_info": {
   "codemirror_mode": {
    "name": "ipython",
    "version": 3
   },
   "file_extension": ".py",
   "mimetype": "text/x-python",
   "name": "python",
   "nbconvert_exporter": "python",
   "pygments_lexer": "ipython3",
   "version": "3.7.10"
  }
 },
 "nbformat": 4,
 "nbformat_minor": 5
}
