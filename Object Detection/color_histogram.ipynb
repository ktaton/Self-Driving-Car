{
 "cells": [
  {
   "cell_type": "code",
   "execution_count": 2,
   "id": "4520f960",
   "metadata": {},
   "outputs": [
    {
     "data": {
      "image/png": "[encoded data removed]",
      "text/plain": [
       "<Figure size 864x216 with 3 Axes>"
      ]
     },
     "metadata": {
      "needs_background": "light"
     },
     "output_type": "display_data"
    }
   ],
   "source": [
    "import numpy as np\n",
    "import cv2\n",
    "import matplotlib.pyplot as plt\n",
    "import matplotlib.image as mpimg\n",
    "\n",
    "image = mpimg.imread('cutout1.jpg')\n",
    "\n",
    "# Define a function to compute color histogram features  \n",
    "def color_hist(img, nbins=32, bins_range=(0, 256)):\n",
    "    # Compute the histogram of the RGB channels separately\n",
    "    rhist = np.histogram(image[:,:,0], bins=32, range=(0, 256))\n",
    "    ghist = np.histogram(image[:,:,1], bins=32, range=(0, 256))\n",
    "    bhist = np.histogram(image[:,:,2], bins=32, range=(0, 256))\n",
    "    # Generating bin centers\n",
    "    bin_edges = rhist[1]\n",
    "    bin_centers = (bin_edges[1:] + bin_edges[0:len(bin_edges)-1])/2\n",
    "    # Concatenate the histograms into a single feature vector\n",
    "    hist_features = np.concatenate((rhist[0], ghist[0], bhist[0]))\n",
    "    # Return the individual histograms, bin_centers and feature vector\n",
    "    return rhist, ghist, bhist, bin_centers, hist_features\n",
    "    \n",
    "rh, gh, bh, bincen, feature_vec = color_hist(image, nbins=32, bins_range=(0, 256))\n",
    "\n",
    "# Plot a figure with all three bar charts\n",
    "if rh is not None:\n",
    "    fig = plt.figure(figsize=(12,3))\n",
    "    plt.subplot(131)\n",
    "    plt.bar(bincen, rh[0])\n",
    "    plt.xlim(0, 256)\n",
    "    plt.title('R Histogram')\n",
    "    plt.subplot(132)\n",
    "    plt.bar(bincen, gh[0])\n",
    "    plt.xlim(0, 256)\n",
    "    plt.title('G Histogram')\n",
    "    plt.subplot(133)\n",
    "    plt.bar(bincen, bh[0])\n",
    "    plt.xlim(0, 256)\n",
    "    plt.title('B Histogram')\n",
    "    fig.tight_layout()\n",
    "else:\n",
    "    print('Your function is returning None for at least one variable...')"
   ]
  },
  {
   "cell_type": "code",
   "execution_count": null,
   "id": "3994cf6a",
   "metadata": {},
   "outputs": [],
   "source": []
  }
 ],
 "metadata": {
  "kernelspec": {
   "display_name": "Tensorflow",
   "language": "python",
   "name": "tensorflow"
  },
  "language_info": {
   "codemirror_mode": {
    "name": "ipython",
    "version": 3
   },
   "file_extension": ".py",
   "mimetype": "text/x-python",
   "name": "python",
   "nbconvert_exporter": "python",
   "pygments_lexer": "ipython3",
   "version": "3.7.10"
  }
 },
 "nbformat": 4,
 "nbformat_minor": 5
}
